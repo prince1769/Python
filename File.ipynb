{
  "nbformat": 4,
  "nbformat_minor": 0,
  "metadata": {
    "colab": {
      "provenance": []
    },
    "kernelspec": {
      "name": "python3",
      "display_name": "Python 3"
    },
    "language_info": {
      "name": "python"
    }
  },
  "cells": [
    {
      "cell_type": "code",
      "source": [
        "#Exercise=1:Data representation and interaction-Basic"
      ],
      "metadata": {
        "id": "Can2GiSjK0SV"
      },
      "execution_count": 63,
      "outputs": []
    },
    {
      "cell_type": "code",
      "source": [
        "#importing the pandas library\n",
        "\n",
        "import pandas as pd\n",
        "import numpy as np\n",
        "info=np.array(['P','a','n','d','a','s'])\n",
        "a=pd.Series(info)\n",
        "print(a)\n",
        "\n"
      ],
      "metadata": {
        "id": "PuOoWWeyk6Si",
        "colab": {
          "base_uri": "https://localhost:8080/"
        },
        "outputId": "d965f5e6-a2c2-447e-ccac-405a4b7066bd"
      },
      "execution_count": 64,
      "outputs": [
        {
          "output_type": "stream",
          "name": "stdout",
          "text": [
            "0    P\n",
            "1    a\n",
            "2    n\n",
            "3    d\n",
            "4    a\n",
            "5    s\n",
            "dtype: object\n"
          ]
        }
      ]
    },
    {
      "cell_type": "code",
      "source": [
        "#creating a dataframe using list\n",
        "import pandas as pd\n",
        "#a list of Strings\n",
        "Name = ['Prince','Anand','Rudra','Dhruv','Aahan']\n",
        "dataframe = pd.DataFrame(Name)\n",
        "print(\"List is:- \",dataframe)\n",
        "\n"
      ],
      "metadata": {
        "colab": {
          "base_uri": "https://localhost:8080/"
        },
        "id": "ZSVyVhGqJUaK",
        "outputId": "5c4fd22d-86d4-4557-bb25-5cfff756074a"
      },
      "execution_count": 65,
      "outputs": [
        {
          "output_type": "stream",
          "name": "stdout",
          "text": [
            "List is:-          0\n",
            "0  Prince\n",
            "1   Anand\n",
            "2   Rudra\n",
            "3   Dhruv\n",
            "4   Aahan\n"
          ]
        }
      ]
    },
    {
      "cell_type": "code",
      "source": [
        "#pandas series map()\n",
        "import pandas as pd\n",
        "import numpy as np\n",
        "a = pd.Series(['Prince','Raja','Rudra',np.nan,np.nan,np.nan])\n",
        "a.map({'Prince':'Captain'})\n",
        "a.map('I like that boy named {}'.format,na_action='ignore')\n",
        "#a.map({'Raja':'CR'})\n",
        "#a.map({'Rudra':'Vice captain'})\n",
        "#print(a)"
      ],
      "metadata": {
        "colab": {
          "base_uri": "https://localhost:8080/"
        },
        "id": "Esjksfy5JZ3o",
        "outputId": "5caa2594-d6a4-41dd-c59d-7f48bd44d1c5"
      },
      "execution_count": 69,
      "outputs": [
        {
          "output_type": "execute_result",
          "data": {
            "text/plain": [
              "0    I like that boy named Prince\n",
              "1      I like that boy named Raja\n",
              "2     I like that boy named Rudra\n",
              "3                             NaN\n",
              "4                             NaN\n",
              "5                             NaN\n",
              "dtype: object"
            ]
          },
          "metadata": {},
          "execution_count": 69
        }
      ]
    },
    {
      "cell_type": "code",
      "source": [
        "#Series to frame()\n",
        "Student=['Prince','Rudra','Raja','Rohit']\n",
        "Course=['AI&ML','Cyber','AI&ML','IOT']\n",
        "Class=['B2','A1','B1','A2']\n",
        "Marks=[56,78,98,76]\n",
        "Student_series=pd.Series(Student)\n",
        "Course_series=pd.Series(Course)\n",
        "Class_series=pd.Series(Class)\n",
        "Marks_series=pd.Series(Marks)\n",
        "frame={'Student':Student_series,'Course':Course_series,'Class':Class_series,'Marks':Marks_series}\n",
        "result=pd.DataFrame(frame)\n",
        "print(result)\n"
      ],
      "metadata": {
        "colab": {
          "base_uri": "https://localhost:8080/"
        },
        "id": "0gAWKh5uRyTR",
        "outputId": "203513a0-e6c5-4ebe-8d4a-cff346ead057"
      },
      "execution_count": 67,
      "outputs": [
        {
          "output_type": "stream",
          "name": "stdout",
          "text": [
            "  Student Course Class  Marks\n",
            "0  Prince  AI&ML    B2     56\n",
            "1   Rudra  Cyber    A1     78\n",
            "2    Raja  AI&ML    B1     98\n",
            "3   Rohit    IOT    A2     76\n"
          ]
        }
      ]
    }
  ]
}